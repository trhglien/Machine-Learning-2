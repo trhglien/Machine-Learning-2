{
 "cells": [
  {
   "cell_type": "code",
   "execution_count": 1,
   "id": "267b58eb",
   "metadata": {},
   "outputs": [],
   "source": [
    "import numpy as np"
   ]
  },
  {
   "cell_type": "code",
   "execution_count": 8,
   "id": "b096b04a",
   "metadata": {},
   "outputs": [],
   "source": [
    "def initialize_random_centroid(K, X):\n",
    "    \"\"\"Initializes and returns k random r\"\"\"\n",
    "    m, n = np.shape(X)\n",
    "    r = np.empty((K, n))\n",
    "    for i in range(K):\n",
    "        # pick a random data point from X as the centroid\n",
    "        r[i] =  X[np.random.choice(range(m))] \n",
    "    return r\n",
    "\n",
    "def euclidean_distance(x1, x2):\n",
    "    \"\"\"Calculates and returns the euclidean distance between two vectors x1 and x2\"\"\"\n",
    "    return np.sqrt(np.sum(np.power(x1 - x2, 2)))\n",
    "\n",
    "def closest_centroid(x, r, K):\n",
    "    \"\"\"Finds and returns the index of the closest centroid for a given vector x\"\"\"\n",
    "    distances = np.empty(K)\n",
    "    for i in range(K):\n",
    "        distances[i] = euclidean_distance(r[i], x)\n",
    "    return np.argmin(distances) # return the index of the lowest distance\n",
    "\n",
    "def create_clusters(r, K, X):\n",
    "    \"\"\"Returns an array of cluster indices for all the data samples\"\"\"\n",
    "    m, _ = np.shape(X)\n",
    "    cluster_idx = np.empty(m)\n",
    "    for i in range(m):\n",
    "        cluster_idx[i] = closest_centroid(X[i], r, K)\n",
    "    return cluster_idx\n",
    "\n",
    "def compute_means(cluster_idx, K, X):\n",
    "    \"\"\"Computes and returns the new centroids of the clusters\"\"\"\n",
    "    _, n = np.shape(X)\n",
    "    r = np.empty((K, n))\n",
    "    for i in range(K):\n",
    "        points = X[cluster_idx == i] # gather points for the cluster i\n",
    "        r[i] = np.mean(points, axis=0) # use axis=0 to compute means across points\n",
    "    return r"
   ]
  },
  {
   "cell_type": "code",
   "execution_count": 9,
   "id": "907b46fd",
   "metadata": {},
   "outputs": [],
   "source": [
    "def run_Kmeans(K, X, max_iterations = 500):\n",
    "    \"\"\"Runs the K-means algorithm and computes the final clusters\"\"\"\n",
    "    # initialize random centroids\n",
    "    r = initialize_random_centroid(K, X)\n",
    "    # loop till max_iterations or convergance\n",
    "    print(f\"initial centroids: {r}\")\n",
    "    for _ in range(max_iterations):\n",
    "        # create clusters by assigning the samples to the closet centroids\n",
    "        clusters = create_clusters(r, K, X)\n",
    "        previous_centroids = r                                                                                                                                                                                                                                                                                                                                                                                                                                                                             \n",
    "        # compute means of the clusters and assign to centroids\n",
    "        r = compute_means(clusters, K, X)\n",
    "        # if the new_centroids are the same as the old centroids, return clusters\n",
    "        diff = previous_centroids - r\n",
    "        if not diff.any():\n",
    "            return clusters\n",
    "    return clusters"
   ]
  },
  {
   "cell_type": "code",
   "execution_count": 10,
   "id": "843bce1a",
   "metadata": {},
   "outputs": [
    {
     "name": "stdout",
     "output_type": "stream",
     "text": [
      "initial centroids: [[  7.49442745   7.35933359]\n",
      " [ -8.67763982  -0.77524342]\n",
      " [ -0.40570764 -10.49166661]]\n"
     ]
    }
   ],
   "source": [
    "from sklearn import datasets\n",
    "# creating a dataset for clustering\n",
    "X, y = datasets.make_blobs()\n",
    "y_preds = run_Kmeans(3, X)"
   ]
  },
  {
   "cell_type": "markdown",
   "id": "04caa7eb",
   "metadata": {},
   "source": [
    "### Ví dụ khi không dùng được Kmean "
   ]
  },
  {
   "cell_type": "markdown",
   "id": "7a777508",
   "metadata": {},
   "source": []
  }
 ],
 "metadata": {
  "kernelspec": {
   "display_name": "Python 3",
   "language": "python",
   "name": "python3"
  },
  "language_info": {
   "codemirror_mode": {
    "name": "ipython",
    "version": 3
   },
   "file_extension": ".py",
   "mimetype": "text/x-python",
   "name": "python",
   "nbconvert_exporter": "python",
   "pygments_lexer": "ipython3",
   "version": "3.8.8"
  }
 },
 "nbformat": 4,
 "nbformat_minor": 5
}
